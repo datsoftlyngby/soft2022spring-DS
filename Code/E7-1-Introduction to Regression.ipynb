{
 "cells": [
  {
   "cell_type": "markdown",
   "id": "68fefd3a",
   "metadata": {},
   "source": [
    "# Exercise 1: Introduction to Regression"
   ]
  },
  {
   "cell_type": "code",
   "execution_count": null,
   "id": "703e296e",
   "metadata": {},
   "outputs": [],
   "source": [
    "import pandas as pd\n",
    "import numpy as np\n",
    "import matplotlib.pyplot as plt"
   ]
  },
  {
   "cell_type": "markdown",
   "id": "e5e80cfa",
   "metadata": {},
   "source": [
    "## Enter Data"
   ]
  },
  {
   "cell_type": "code",
   "execution_count": null,
   "id": "24d6961d",
   "metadata": {},
   "outputs": [],
   "source": [
    "# enter the data\n",
    "df = pd.read_excel(\"../data/small-house-data.xlsx\")\n",
    "df.head()"
   ]
  },
  {
   "cell_type": "code",
   "execution_count": null,
   "id": "62f944cb",
   "metadata": {},
   "outputs": [],
   "source": [
    "# split it into x and y\n",
    "x, y = df[\"sqft_living\"]/10.764, df[\"price\"]"
   ]
  },
  {
   "cell_type": "code",
   "execution_count": null,
   "id": "742ece84",
   "metadata": {},
   "outputs": [],
   "source": [
    "# Plot output for a few observations\n",
    "plt.scatter(x[0:3], y[0:3], color='green')\n",
    "plt.xlabel('x')\n",
    "plt.ylabel('y')\n",
    "plt.show()"
   ]
  },
  {
   "cell_type": "code",
   "execution_count": null,
   "id": "f0598b93",
   "metadata": {},
   "outputs": [],
   "source": [
    "from typing import Tuple\n",
    "from typing import List\n",
    "Vector = List[float]"
   ]
  },
  {
   "cell_type": "markdown",
   "id": "1e2056f7",
   "metadata": {},
   "source": [
    "## Prepare Regression Parameters"
   ]
  },
  {
   "cell_type": "code",
   "execution_count": null,
   "id": "df29fe30",
   "metadata": {},
   "outputs": [],
   "source": [
    "# Predicted price\n",
    "def pprice(a: float, b: float, x:float) -> float:\n",
    "    return (b*x + a)\n"
   ]
  },
  {
   "cell_type": "code",
   "execution_count": null,
   "id": "53761e35",
   "metadata": {},
   "outputs": [],
   "source": [
    "# The error\n",
    "def error(a: float, b: float, x: float, y:float)->float:\n",
    "    return y - pprice(a, b, x)\n"
   ]
  },
  {
   "cell_type": "code",
   "execution_count": null,
   "id": "d93d820b",
   "metadata": {},
   "outputs": [],
   "source": [
    "pprice(-4.47515219e+05, 5.11109376e+03, 109.624675)"
   ]
  },
  {
   "cell_type": "code",
   "execution_count": null,
   "id": "e65ea5bc",
   "metadata": {},
   "outputs": [],
   "source": [
    "# Test\n",
    "err = error(-4.47515219e+05, 5.11109376e+03, 109.624675, 221900)\n",
    "err"
   ]
  },
  {
   "cell_type": "markdown",
   "id": "5cc005ec",
   "metadata": {},
   "source": [
    "Single observation and error are far from sufficient, and can be both positive and negative."
   ]
  },
  {
   "cell_type": "code",
   "execution_count": null,
   "id": "71e6a387",
   "metadata": {},
   "outputs": [],
   "source": [
    "# Sum of squared errors (RSS - Residual Sum of Squares)\n",
    "def sum_err(a: float, b:float, x:Vector, y:Vector)->float:\n",
    "    return sum(error(a, b, xi, yi)**2\n",
    "               for xi, yi in zip(x, y))"
   ]
  },
  {
   "cell_type": "code",
   "execution_count": null,
   "id": "ef064e41",
   "metadata": {},
   "outputs": [],
   "source": [
    "sum_err(-4.47515219e+05, 5.11109376e+03, x, y)"
   ]
  },
  {
   "cell_type": "markdown",
   "id": "2ac8cd08",
   "metadata": {},
   "source": [
    "### Least Squares\n",
    "The _ordinary least squares_ solution (OLS) is this that makes the sum of squared errors minimal."
   ]
  },
  {
   "cell_type": "code",
   "execution_count": null,
   "id": "3f3331d6",
   "metadata": {},
   "outputs": [],
   "source": [
    "# a, b - a tuple[a, b]\n",
    "from numpy import mean\n",
    "from numpy import std\n",
    "from numpy import cov\n",
    "from scipy.stats import pearsonr\n",
    "def least_sq(x:Vector, y:Vector)->Tuple[float, float]:\n",
    "    r = cov(x, y)/(std(x)*std(y))\n",
    "    # b = cov(x, y)/(std(x)*std(x))\n",
    "    # r = pearsonr(x, y)\n",
    "    b = r * (std(y)/std(x))\n",
    "    a = mean(y)-b*mean(x)\n",
    "    return a, b"
   ]
  },
  {
   "cell_type": "code",
   "execution_count": null,
   "id": "5984e123",
   "metadata": {},
   "outputs": [],
   "source": [
    "least_sq(x, y)"
   ]
  },
  {
   "cell_type": "code",
   "execution_count": null,
   "id": "62ce6486",
   "metadata": {},
   "outputs": [],
   "source": [
    "# Plot output\n",
    "plt.scatter(x, y, color='green')\n",
    "plt.xlabel('x')\n",
    "plt.ylabel('y')\n",
    "plt.show()"
   ]
  },
  {
   "cell_type": "code",
   "execution_count": null,
   "id": "6d79cd9c",
   "metadata": {},
   "outputs": [],
   "source": [
    "# plot the prediction\n",
    "plt.xlabel('area')\n",
    "plt.ylabel('price')\n",
    "# plt.legend()\n",
    "\n",
    "plt.scatter(x, y, color='green', label = 'test data')\n",
    "plt.plot(x, pprice(-4.36077498e+04, 3.02077185e+03, x), color='red', linewidth=2, label= 'predicted regression line')\n",
    "\n",
    "plt.show()"
   ]
  },
  {
   "cell_type": "code",
   "execution_count": null,
   "id": "d1c212ef",
   "metadata": {},
   "outputs": [],
   "source": []
  }
 ],
 "metadata": {
  "kernelspec": {
   "display_name": "Python 3 (ipykernel)",
   "language": "python",
   "name": "python3"
  },
  "language_info": {
   "codemirror_mode": {
    "name": "ipython",
    "version": 3
   },
   "file_extension": ".py",
   "mimetype": "text/x-python",
   "name": "python",
   "nbconvert_exporter": "python",
   "pygments_lexer": "ipython3",
   "version": "3.9.7"
  }
 },
 "nbformat": 4,
 "nbformat_minor": 5
}
