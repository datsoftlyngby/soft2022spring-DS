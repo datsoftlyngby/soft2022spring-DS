{
 "cells": [
  {
   "cell_type": "markdown",
   "metadata": {},
   "source": [
    "# Exercice 1: Matrices in Python"
   ]
  },
  {
   "cell_type": "markdown",
   "metadata": {},
   "source": [
    "Packages, which contain appropriate functions and methods for creating and manipulating matrices are:\n",
    "- NumPy - processes them as __arrays__\n",
    "- Pandas - processes data structures such as __dataframe__ and __series__<br>\n",
    "NumPy is constrained to arrays that all contain the _same type_. If types do not match, NumPy casts the values, if possible."
   ]
  },
  {
   "cell_type": "code",
   "execution_count": null,
   "metadata": {},
   "outputs": [],
   "source": [
    "# import numpy\n",
    "import numpy as np"
   ]
  },
  {
   "cell_type": "markdown",
   "metadata": {},
   "source": [
    "## Creating Matrices"
   ]
  },
  {
   "cell_type": "markdown",
   "metadata": {},
   "source": [
    "### From array"
   ]
  },
  {
   "cell_type": "code",
   "execution_count": null,
   "metadata": {},
   "outputs": [],
   "source": [
    "# From an array\n",
    "A = np.array([[ 1, 2 ],[ 3, 4]])\n",
    "B = np.array([[ 9, 8 ],[ 7, 6]])"
   ]
  },
  {
   "cell_type": "markdown",
   "metadata": {},
   "source": [
    "### With _numpy_ functions"
   ]
  },
  {
   "cell_type": "code",
   "execution_count": null,
   "metadata": {},
   "outputs": [],
   "source": [
    "# Filling it with a constant value of 1\n",
    "np.ones((3, 5), dtype=float)"
   ]
  },
  {
   "cell_type": "code",
   "execution_count": null,
   "metadata": {},
   "outputs": [],
   "source": [
    "# Filling it with another constant value\n",
    "np.full((3, 5), 3.14)"
   ]
  },
  {
   "cell_type": "code",
   "execution_count": null,
   "metadata": {},
   "outputs": [],
   "source": [
    "# Filling it according a formula\n",
    "R = np.array([range(i, i + 3) for i in [2, 4, 6]])"
   ]
  },
  {
   "cell_type": "code",
   "execution_count": null,
   "metadata": {},
   "outputs": [],
   "source": [
    "# Filling it with a random values from a range\n",
    "np.random.randint(0, 10, (100, 10))"
   ]
  },
  {
   "cell_type": "code",
   "execution_count": null,
   "metadata": {},
   "outputs": [],
   "source": [
    "# Random floats in the half-open interval [0.0, 1.0) (1.0 not included)\n",
    "M = np.random.random((3, 3))"
   ]
  },
  {
   "cell_type": "code",
   "execution_count": null,
   "metadata": {},
   "outputs": [],
   "source": [
    "# Random samples from a normal (Gaussian) distribution\n",
    "# You can provide the mean (loc) and the standard deviation (sigma)\n",
    "loc, sigma = 0, 0.1\n",
    "N = np.random.normal(loc, sigma, (100, 10))"
   ]
  },
  {
   "cell_type": "code",
   "execution_count": null,
   "metadata": {},
   "outputs": [],
   "source": [
    "# Plot the generated numbers\n",
    "import matplotlib.pyplot as plt\n",
    "count, bins, ignored = plt.hist(M, 10, density=True)\n",
    "plt.plot(bins, 1/(sigma * np.sqrt(2 * np.pi)) * np.exp(-(bins-loc)**2 / (2 * sigma**2) ), linewidth=2, color='r')\n",
    "plt.show()"
   ]
  },
  {
   "cell_type": "code",
   "execution_count": null,
   "metadata": {},
   "outputs": [],
   "source": [
    "# 2-D array with ones on the diagonal and zeros elsewhere - Identity matrix\n",
    "np.eye(10)"
   ]
  },
  {
   "cell_type": "markdown",
   "metadata": {},
   "source": [
    "## Operations with Matrices"
   ]
  },
  {
   "cell_type": "markdown",
   "metadata": {},
   "source": [
    "### Addition "
   ]
  },
  {
   "cell_type": "code",
   "execution_count": null,
   "metadata": {},
   "outputs": [],
   "source": [
    "# Addition: if and only if they are of the same order\n",
    "C = A+B"
   ]
  },
  {
   "cell_type": "code",
   "execution_count": null,
   "metadata": {},
   "outputs": [],
   "source": [
    "# Special case\n",
    "# A+B=O  ->  B=O-A\n",
    "N = np.full((2, 2), 0)"
   ]
  },
  {
   "cell_type": "code",
   "execution_count": null,
   "metadata": {},
   "outputs": [],
   "source": [
    "N-A"
   ]
  },
  {
   "cell_type": "code",
   "execution_count": null,
   "metadata": {},
   "outputs": [],
   "source": [
    "# Multiply by a scalar\n",
    "A*(-1)"
   ]
  },
  {
   "cell_type": "code",
   "execution_count": null,
   "metadata": {},
   "outputs": [],
   "source": [
    "A + (A*(-1))"
   ]
  },
  {
   "cell_type": "markdown",
   "metadata": {},
   "source": [
    "### Subtraction"
   ]
  },
  {
   "cell_type": "code",
   "execution_count": null,
   "metadata": {},
   "outputs": [],
   "source": [
    "D = C - A"
   ]
  },
  {
   "cell_type": "markdown",
   "metadata": {},
   "source": [
    "### Multiplication"
   ]
  },
  {
   "cell_type": "code",
   "execution_count": null,
   "metadata": {
    "scrolled": true
   },
   "outputs": [],
   "source": [
    "# Matrix Multiplication - dot multiplication A.B\n",
    "C = A @ B\n",
    "# for Cij: dot product or row j and column j\n",
    "# 1*9 + 2*7 = 23\n",
    "# 1*8 + 2*6 = 20\n",
    "# 3*9 + 4*7 = 55\n",
    "# 3*8 + 4*6 = 48"
   ]
  },
  {
   "cell_type": "markdown",
   "metadata": {},
   "source": [
    "### Matrices of different order"
   ]
  },
  {
   "cell_type": "code",
   "execution_count": null,
   "metadata": {},
   "outputs": [],
   "source": [
    "# Generate rectangular matrix\n",
    "E = np.random.randint(0, 10, (3, 2))"
   ]
  },
  {
   "cell_type": "code",
   "execution_count": null,
   "metadata": {},
   "outputs": [],
   "source": [
    "# Multiplication of non-squared matrices: same procedure with condition!\n",
    "C = E @ A"
   ]
  },
  {
   "cell_type": "code",
   "execution_count": null,
   "metadata": {},
   "outputs": [],
   "source": [
    "# The condition!\n",
    "C = A @ E"
   ]
  },
  {
   "cell_type": "markdown",
   "metadata": {},
   "source": [
    "A.B != B.A"
   ]
  },
  {
   "cell_type": "code",
   "execution_count": null,
   "metadata": {},
   "outputs": [],
   "source": [
    "# Make your own example of possible multiplication"
   ]
  },
  {
   "cell_type": "markdown",
   "metadata": {},
   "source": [
    "## Matrix Transposition "
   ]
  },
  {
   "cell_type": "markdown",
   "metadata": {},
   "source": [
    "If __A(m, n)__ and __B(n, m)__ \n",
    "and \n",
    "__A[i, j] = B[j, i]__<br>\n",
    "then \n",
    "B is a transpose of A __(B = AT)__"
   ]
  },
  {
   "cell_type": "code",
   "execution_count": null,
   "metadata": {},
   "outputs": [],
   "source": [
    "# A transposed (danish: A transponeret)\n",
    "# Rows become columns\n",
    "A.T "
   ]
  },
  {
   "cell_type": "markdown",
   "metadata": {},
   "source": [
    "__Notice__: the elements of principle diagonal are the same, the rest have exchanged position."
   ]
  },
  {
   "cell_type": "markdown",
   "metadata": {},
   "source": [
    "### Symmetric and antisymmetric matrices"
   ]
  },
  {
   "cell_type": "code",
   "execution_count": null,
   "metadata": {},
   "outputs": [],
   "source": [
    "# Symmetric matrix:  ST = S\n",
    "S = np.array(\n",
    "    [[1, 2, 3],\n",
    "     [2, 5, 2],\n",
    "     [3, 2, 6]])\n",
    "S.T"
   ]
  },
  {
   "cell_type": "code",
   "execution_count": null,
   "metadata": {},
   "outputs": [],
   "source": [
    "# Skew-symmetric matrix (anti-symmetric): ST = -S\n",
    "S = np.array(\n",
    "    [[0, 1, 2],\n",
    "     [-1, 0, 3],\n",
    "     [-2, -3, 0]])"
   ]
  },
  {
   "cell_type": "code",
   "execution_count": null,
   "metadata": {},
   "outputs": [],
   "source": [
    "S.T"
   ]
  },
  {
   "cell_type": "code",
   "execution_count": null,
   "metadata": {},
   "outputs": [],
   "source": [
    "S+S.T"
   ]
  },
  {
   "cell_type": "code",
   "execution_count": null,
   "metadata": {},
   "outputs": [],
   "source": [
    "# B transposed\n",
    "B.T "
   ]
  },
  {
   "cell_type": "code",
   "execution_count": null,
   "metadata": {},
   "outputs": [],
   "source": [
    "# A matrix plus its transposed always produce a symmetric matrix, if is a squared matrix (both are in same order)\n",
    "B + B.T"
   ]
  },
  {
   "cell_type": "code",
   "execution_count": null,
   "metadata": {},
   "outputs": [],
   "source": [
    "# A matrix minus its transposed always produce a skew-symmetric matrix, if is a squared matrix (both are in same order)\n",
    "B - B.T"
   ]
  },
  {
   "cell_type": "markdown",
   "metadata": {},
   "source": [
    "###  Invers matrix"
   ]
  },
  {
   "cell_type": "code",
   "execution_count": null,
   "metadata": {},
   "outputs": [],
   "source": [
    "# Inverse\n",
    "from numpy.linalg import inv\n",
    "inv(A)"
   ]
  },
  {
   "cell_type": "markdown",
   "metadata": {},
   "source": [
    "## Matrix Transformation"
   ]
  },
  {
   "cell_type": "code",
   "execution_count": null,
   "metadata": {},
   "outputs": [],
   "source": [
    "# Create a vector image, store all coordinates in a matrix\n",
    "points = np.array([[0,1],[0,0],[3,0],[3,1],[0,1],[1.5,2],[3,1]])"
   ]
  },
  {
   "cell_type": "code",
   "execution_count": null,
   "metadata": {},
   "outputs": [],
   "source": [
    "# Plot the matrix\n",
    "def img_plot(matrix):\n",
    "    fig = plt.figure()\n",
    "    fig, ax = plt.subplots()\n",
    "    ax.axis('equal')\n",
    "    ax.plot(matrix[:,0], matrix[:,1],'-')"
   ]
  },
  {
   "cell_type": "code",
   "execution_count": null,
   "metadata": {},
   "outputs": [],
   "source": [
    "img_plot(points)"
   ]
  },
  {
   "cell_type": "code",
   "execution_count": null,
   "metadata": {},
   "outputs": [],
   "source": [
    "# Create a rotation matrix\n",
    "rot = np.array([[0.707, 0.707],[-0.707,0.707]])"
   ]
  },
  {
   "cell_type": "code",
   "execution_count": null,
   "metadata": {},
   "outputs": [],
   "source": [
    "# Multiply the original matrix to the rotation matrix\n",
    "rotated = points @ rot"
   ]
  },
  {
   "cell_type": "code",
   "execution_count": null,
   "metadata": {},
   "outputs": [],
   "source": [
    "img_plot(rotated)"
   ]
  },
  {
   "cell_type": "markdown",
   "metadata": {},
   "source": [
    "## Pooling"
   ]
  },
  {
   "cell_type": "code",
   "execution_count": null,
   "metadata": {},
   "outputs": [],
   "source": [
    "P = np.random.randint(0, 20, (4, 4))"
   ]
  },
  {
   "cell_type": "code",
   "execution_count": null,
   "metadata": {},
   "outputs": [],
   "source": [
    "# Get the order of the original matrix\n",
    "m, n = P.shape"
   ]
  },
  {
   "cell_type": "code",
   "execution_count": null,
   "metadata": {},
   "outputs": [],
   "source": [
    "def get_pools(mat: np.array, pool: int, stride: int) -> np.array:\n",
    "    # To store individual pools\n",
    "    pools = []    \n",
    "    # For all rows with the step size of stride (row 0 and row 2)\n",
    "    for i in np.arange(mat.shape[0], step=stride):\n",
    "        # For all columns with the step size of stride (column 0 and column 2)\n",
    "        for j in np.arange(mat.shape[1], step=stride):\n",
    "            # Get a single pool\n",
    "            # First  - Image[0:2, 0:2] -> [[10, 12], [ 4, 11]]\n",
    "            # Second - Image[0:2, 2:4] -> [[ 8,  7], [ 5,  9]]\n",
    "            # Third  - Image[2:4, 0:2] -> [[18, 13], [ 3, 15]]\n",
    "            # Fourth - Image[2:4, 2:4] -> [[ 7,  7], [ 2,  2]]\n",
    "            output = mat[i:i+pool, j:j+pool]\n",
    "\n",
    "            # Ensure that the shape of the matrix is pool x pool size\n",
    "            if output.shape == (pool, pool):\n",
    "                # Append to the list of pools\n",
    "                pools.append(output)\n",
    "                \n",
    "    # Return all pools as a Numpy array\n",
    "    return np.array(pools)"
   ]
  },
  {
   "cell_type": "code",
   "execution_count": null,
   "metadata": {},
   "outputs": [],
   "source": [
    "test_pools = get_pools(mat=P, pool=2, stride=2)"
   ]
  },
  {
   "cell_type": "markdown",
   "metadata": {},
   "source": [
    "- Get the total number of pools — it’s simply the length of our pools array.\n",
    "- Calculate the target shape — image size after performing the pooling operation. It’s calculated as the square root of the number of pools cast as an integer. For example, if the number of pools is 16, we need a 4x4 matrix — the square root of 16 is 4.\n",
    "- Iterate over all pools, get the maximum value and append it to the list.\n",
    "- Return the list as a Numpy array reshaped to the target size."
   ]
  },
  {
   "cell_type": "code",
   "execution_count": null,
   "metadata": {},
   "outputs": [],
   "source": [
    "def max_pooling(pools: np.array) -> np.array:\n",
    "    # total number of pools\n",
    "    num_pools = pools.shape[0]\n",
    "    # reshape the pools to a matrix - Square root of the number of pools\n",
    "    # cast the result to int, as Numpy returns sqrt() as float\n",
    "    # for example: np.sqrt(16) = 4.0 -> int(4.0) = 4\n",
    "    target_shape = (int(np.sqrt(num_pools)), int(np.sqrt(num_pools)))\n",
    "    # to store the max values\n",
    "    pooled = []\n",
    "    # iterate over all pools\n",
    "    for pool in pools:\n",
    "        # append the max value only\n",
    "        pooled.append(np.max(pool))     \n",
    "    # Reshape to target shape\n",
    "    return np.array(pooled).reshape(target_shape)"
   ]
  },
  {
   "cell_type": "code",
   "execution_count": null,
   "metadata": {},
   "outputs": [],
   "source": [
    "max_pooling(pools=test_pools)"
   ]
  }
 ],
 "metadata": {
  "kernelspec": {
   "display_name": "Python 3",
   "language": "python",
   "name": "python3"
  },
  "language_info": {
   "codemirror_mode": {
    "name": "ipython",
    "version": 3
   },
   "file_extension": ".py",
   "mimetype": "text/x-python",
   "name": "python",
   "nbconvert_exporter": "python",
   "pygments_lexer": "ipython3",
   "version": "3.7.6"
  }
 },
 "nbformat": 4,
 "nbformat_minor": 4
}
