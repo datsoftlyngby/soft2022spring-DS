{
 "cells": [
  {
   "cell_type": "markdown",
   "metadata": {},
   "source": [
    "# Exercise 2: Image Processing"
   ]
  },
  {
   "cell_type": "code",
   "execution_count": null,
   "metadata": {},
   "outputs": [],
   "source": [
    "# import image library: either CV2 or PIL\n",
    "import cv2 \n",
    "# from PIL import Image, ImageOps\n",
    "\n",
    "import numpy as np\n",
    "from matplotlib import pyplot as plt"
   ]
  },
  {
   "cell_type": "markdown",
   "metadata": {},
   "source": [
    "## Load and Resize Image"
   ]
  },
  {
   "cell_type": "code",
   "execution_count": null,
   "metadata": {},
   "outputs": [],
   "source": [
    "# load my image, 0 is for grey scale mode\n",
    "img = cv2.imread('../data/siam.jpg', 0) #cv2\n",
    "# img = Image.open('../data/siam.jpg') #PIL\n",
    "# img = ImageOps.grayscale(img)        #PIL"
   ]
  },
  {
   "cell_type": "code",
   "execution_count": null,
   "metadata": {},
   "outputs": [],
   "source": [
    "# visualisation function\n",
    "def show_image(image):\n",
    "  # image view\n",
    "    plt.figure(figsize=(4, 4))\n",
    "    plt.imshow(image, cmap='gray')\n",
    "    plt.show()\n",
    "  # pixel view\n",
    "    print('image size: ', image.shape)\n",
    "    print('pixel matrix:\\n', image)"
   ]
  },
  {
   "cell_type": "code",
   "execution_count": null,
   "metadata": {},
   "outputs": [],
   "source": [
    "show_image(img)"
   ]
  },
  {
   "cell_type": "code",
   "execution_count": null,
   "metadata": {},
   "outputs": [],
   "source": [
    "# Resize the image\n",
    "SIZE = 320\n",
    "img = cv2.resize(img, (SIZE, SIZE)) #cv2\n",
    "# img = img.resize(size=(SIZE, SIZE)) #PIL"
   ]
  },
  {
   "cell_type": "code",
   "execution_count": null,
   "metadata": {},
   "outputs": [],
   "source": [
    "# show image\n",
    "show_image(img)"
   ]
  },
  {
   "cell_type": "markdown",
   "metadata": {},
   "source": [
    "## Pool the Image"
   ]
  },
  {
   "cell_type": "code",
   "execution_count": null,
   "metadata": {},
   "outputs": [],
   "source": [
    "# Divide the whole image matrix into pools\n",
    "def get_pools(mat: np.array, pool: int, stride: int) -> np.array:\n",
    "    # To store individual pools\n",
    "    pools = []    \n",
    "    # For all rows with the step size of stride (row 0 and row 2)\n",
    "    for i in np.arange(mat.shape[0], step=stride):\n",
    "        # For all columns with the step size of strade (column 0 and column 2)\n",
    "        for j in np.arange(mat.shape[1], step=stride):\n",
    "            # Get a single pool\n",
    "            # First  - Image[0:2, 0:2] -> [[10, 12], [ 4, 11]]\n",
    "            # Second - Image[0:2, 2:4] -> [[ 8,  7], [ 5,  9]]\n",
    "            # Third  - Image[2:4, 0:2] -> [[18, 13], [ 3, 15]]\n",
    "            # Fourth - Image[2:4, 2:4] -> [[ 7,  7], [ 2,  2]]\n",
    "            output = mat[i:i+pool, j:j+pool]\n",
    "\n",
    "            # Ensure that the shape of the matrix is 2x2 (pool size)\n",
    "            if output.shape == (pool, pool):\n",
    "                # Append to the list of pools\n",
    "                pools.append(output)\n",
    "                \n",
    "    # Return all pools as a Numpy array\n",
    "    return np.array(pools)"
   ]
  },
  {
   "cell_type": "code",
   "execution_count": null,
   "metadata": {},
   "outputs": [],
   "source": [
    "# Create pools\n",
    "cat_pools = get_pools(mat=np.array(img), pool=4, stride=2)\n",
    "cat_pools"
   ]
  },
  {
   "cell_type": "code",
   "execution_count": null,
   "metadata": {},
   "outputs": [],
   "source": [
    "cat_pools.shape"
   ]
  },
  {
   "cell_type": "code",
   "execution_count": null,
   "metadata": {},
   "outputs": [],
   "source": [
    "# Calculate the max value of each pool and reshape the pools into the desired aoutput shape\n",
    "def max_pooling(pools: np.array) -> np.array:\n",
    "    # total number of pools\n",
    "    num_pools = pools.shape[0]\n",
    "    # reshape the pools to a matrix - Square root of the number of pools\n",
    "    # cast the result to int, as Numpy returns sqrt() as float\n",
    "    # for example: np.sqrt(16) = 4.0 -> int(4.0) = 4\n",
    "    target_shape = (int(np.sqrt(num_pools)), int(np.sqrt(num_pools)))\n",
    "    # to store the max values\n",
    "    pooled = []\n",
    "    \n",
    "    # iterate over all pools\n",
    "    for pool in pools:\n",
    "        # append the max value only\n",
    "        pooled.append(np.max(pool))\n",
    "        \n",
    "    # Reshape to target shape\n",
    "    return np.array(pooled).reshape(target_shape)"
   ]
  },
  {
   "cell_type": "code",
   "execution_count": null,
   "metadata": {},
   "outputs": [],
   "source": [
    "# Apply max-pooling\n",
    "cat_max_pooled = max_pooling(pools=cat_pools)\n",
    "cat_max_pooled"
   ]
  },
  {
   "cell_type": "code",
   "execution_count": null,
   "metadata": {},
   "outputs": [],
   "source": [
    "cat_max_pooled.shape"
   ]
  },
  {
   "cell_type": "code",
   "execution_count": null,
   "metadata": {},
   "outputs": [],
   "source": [
    "# show original image\n",
    "show_image(img)"
   ]
  },
  {
   "cell_type": "code",
   "execution_count": null,
   "metadata": {},
   "outputs": [],
   "source": [
    "# show pooled image\n",
    "show_image(cat_max_pooled)"
   ]
  },
  {
   "cell_type": "markdown",
   "metadata": {},
   "source": [
    "__Notice__: Much smaller size and almost same quality!"
   ]
  },
  {
   "cell_type": "code",
   "execution_count": null,
   "metadata": {},
   "outputs": [],
   "source": [
    "# show transposed image\n",
    "show_image(cat_max_pooled.T)"
   ]
  },
  {
   "cell_type": "code",
   "execution_count": null,
   "metadata": {},
   "outputs": [],
   "source": [
    "# Create another pool\n",
    "cat_pools = get_pools(mat=np.array(cat_max_pooled), pool=3, stride=3)\n",
    "cat_pools"
   ]
  },
  {
   "cell_type": "markdown",
   "metadata": {},
   "source": [
    "## Convolute"
   ]
  },
  {
   "cell_type": "code",
   "execution_count": null,
   "metadata": {},
   "outputs": [],
   "source": [
    "# Convolution function\n",
    "import math\n",
    "def get_conv(mat, kernel):\n",
    "    conv = []\n",
    "    for m in mat:\n",
    "        conv.append(\n",
    "        np.sum(np.multiply(m, kernel)))\n",
    "    resh_size = int(math.sqrt(mat.shape[0]))\n",
    "    conv = np.array(conv).reshape(resh_size, resh_size)\n",
    "    return conv"
   ]
  },
  {
   "cell_type": "code",
   "execution_count": null,
   "metadata": {},
   "outputs": [],
   "source": [
    "# Edge detection\n",
    "kernel = [[-1, -1, -1],[-1, 12, -1], [-1, -1, -1]]"
   ]
  },
  {
   "cell_type": "code",
   "execution_count": null,
   "metadata": {},
   "outputs": [],
   "source": [
    "transformed = get_conv(cat_pools, kernel)"
   ]
  },
  {
   "cell_type": "code",
   "execution_count": null,
   "metadata": {},
   "outputs": [],
   "source": [
    "show_image(transformed)"
   ]
  }
 ],
 "metadata": {
  "kernelspec": {
   "display_name": "Python 3",
   "language": "python",
   "name": "python3"
  },
  "language_info": {
   "codemirror_mode": {
    "name": "ipython",
    "version": 3
   },
   "file_extension": ".py",
   "mimetype": "text/x-python",
   "name": "python",
   "nbconvert_exporter": "python",
   "pygments_lexer": "ipython3",
   "version": "3.7.6"
  }
 },
 "nbformat": 4,
 "nbformat_minor": 4
}
