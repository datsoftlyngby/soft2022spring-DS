{
 "cells": [
  {
   "cell_type": "markdown",
   "metadata": {},
   "source": [
    "# Python Fast Track 3: Classes, Methods, and Constructors\n",
    "\n",
    "by Dora Dimitrova @CPHBUS\n",
    "\n",
    "This is a short introduction to some object-oriented features of Python."
   ]
  },
  {
   "cell_type": "markdown",
   "metadata": {},
   "source": [
    "## Class and Methods"
   ]
  },
  {
   "cell_type": "markdown",
   "metadata": {},
   "source": [
    "There are three types of methods in a class:\n",
    "- instance methods - like instance methods in Java\n",
    "- class methods - like the static methods in Java\n",
    "- static methods - neither of the above\n",
    "<br>\n",
    "Let's see it through examples:"
   ]
  },
  {
   "cell_type": "code",
   "execution_count": null,
   "metadata": {},
   "outputs": [],
   "source": [
    "# Definition of a class containing three types of methods\n",
    "class MyClass:\n",
    "    # 'ususal' method, called by instances\n",
    "    def instancemethod(self):\n",
    "        return 'instance method called by ', self\n",
    "\n",
    "    @classmethod\n",
    "    def classmethod(cls):\n",
    "        return 'class method called by', cls\n",
    "\n",
    "    @staticmethod\n",
    "    def staticmethod():\n",
    "        return 'static method called'\n",
    "    "
   ]
  },
  {
   "cell_type": "code",
   "execution_count": null,
   "metadata": {},
   "outputs": [],
   "source": [
    "# Create an instance\n",
    "me = MyClass()"
   ]
  },
  {
   "cell_type": "markdown",
   "metadata": {},
   "source": [
    "### Instance Methods\n",
    "The __instance metods__ run for a created instance of the class. Each instance is reffered as __self__ (this in Java). The argument 'self' is mandatory as a first argument at call, but you don't have to specify it, as it is the default arg.<br>\n",
    "You can call an instance method in two ways, which return identiucal result:"
   ]
  },
  {
   "cell_type": "code",
   "execution_count": null,
   "metadata": {},
   "outputs": [],
   "source": [
    "# Directly, by the instance\n",
    "me.instancemethod()"
   ]
  },
  {
   "cell_type": "code",
   "execution_count": null,
   "metadata": {},
   "outputs": [],
   "source": [
    "#Through the class\n",
    "MyClass.instancemethod(me)"
   ]
  },
  {
   "cell_type": "markdown",
   "metadata": {},
   "source": [
    "### Class Methods\n",
    "The __class methods__ run for the class, there is no need of a created instance, though an instance also can run them. The argument 'self' is not needed, but the argument 'cls' (class itself) is mandatory as a first argument in the list, impliciutely present.<br>\n",
    "Class methods are inherited and can be overridden. "
   ]
  },
  {
   "cell_type": "code",
   "execution_count": null,
   "metadata": {},
   "outputs": [],
   "source": [
    "MyClass.classmethod()"
   ]
  },
  {
   "cell_type": "code",
   "execution_count": null,
   "metadata": {},
   "outputs": [],
   "source": [
    "me.classmethod()"
   ]
  },
  {
   "cell_type": "markdown",
   "metadata": {},
   "source": [
    "As you see, there is no instance identification returned."
   ]
  },
  {
   "cell_type": "markdown",
   "metadata": {},
   "source": [
    "### Static Methods\n",
    "The __static methods__ in Python are just functions for doing some common operations. The special feature of these methods in comparison with Python functions is that they are located in the class's domain space. These methods do not require either self or cls."
   ]
  },
  {
   "cell_type": "code",
   "execution_count": null,
   "metadata": {},
   "outputs": [],
   "source": [
    "MyClass.staticmethod()"
   ]
  },
  {
   "cell_type": "code",
   "execution_count": null,
   "metadata": {},
   "outputs": [],
   "source": [
    "me.staticmethod()"
   ]
  },
  {
   "cell_type": "markdown",
   "metadata": {},
   "source": [
    "## Constructors\n",
    "Whenever a class is instantiated __\\_\\_init\\_\\___ and __\\_\\_new\\_\\___ methods are called.\n",
    "The __new__ method is called for ctreating an object and allocating memory, and __init__ method is called for initialization of the newly created object.\n",
    "Therefore, if you need a constructor with parameters (other than self), you call  __\\_\\_init\\_\\___ after __\\_\\_new\\_\\___.\n"
   ]
  },
  {
   "cell_type": "markdown",
   "metadata": {},
   "source": [
    "### __\\_\\_init\\_\\___"
   ]
  },
  {
   "cell_type": "code",
   "execution_count": null,
   "metadata": {},
   "outputs": [],
   "source": [
    "# A class with initialisation \n",
    "class Student:\n",
    "    def __init__ (self, name):\n",
    "        self.name = name\n",
    "        \n",
    "    def method(self):\n",
    "        return 'method called by ', self.name, 'from instance ', self"
   ]
  },
  {
   "cell_type": "code",
   "execution_count": null,
   "metadata": {},
   "outputs": [],
   "source": [
    "you = Student(\"Martin\")\n",
    "print('Your name: ', you.name)\n",
    "print('Your call: ', you.method())"
   ]
  },
  {
   "cell_type": "markdown",
   "metadata": {},
   "source": [
    "### __\\_\\_new\\_\\___\n",
    "\n",
    "The first argument of __\\_\\_new\\_\\___ is cls - the class itself, passed implicitly. The method returns the created object.<br>\n",
    "Using explicit constructor __\\_\\_new\\_\\___ is helpful for controlling the creation of new instances, for example, to limit them. "
   ]
  },
  {
   "cell_type": "code",
   "execution_count": null,
   "metadata": {},
   "outputs": [],
   "source": [
    "# A class with explicit constructor\n",
    "class TheirClass(Student):\n",
    "    max_num = 3\n",
    "    so_far = 0\n",
    "    def __new__ (cls, *args, **kwargs):\n",
    "        if ((cls.so_far) >= cls.max_num):\n",
    "            raise ValueError(\"No more available places\")\n",
    "        cls.so_far += 1\n",
    "        return super().__new__ (cls)  \n",
    "                # tells an instance of the class Student is created from 'object' by the constructor of the super class (like in Java)       "
   ]
  },
  {
   "cell_type": "code",
   "execution_count": null,
   "metadata": {},
   "outputs": [],
   "source": [
    "# Student #1\n",
    "she = TheirClass(\"Maria\")"
   ]
  },
  {
   "cell_type": "code",
   "execution_count": null,
   "metadata": {},
   "outputs": [],
   "source": [
    "print('Your name: ', she.name)\n",
    "print('Your call: ', she.method())"
   ]
  },
  {
   "cell_type": "code",
   "execution_count": null,
   "metadata": {},
   "outputs": [],
   "source": [
    "# Student #2\n",
    "he = TheirClass(\"Mario\")\n",
    "print('Your name: ', he.name)\n",
    "print('Your call: ', he.method())"
   ]
  },
  {
   "cell_type": "code",
   "execution_count": null,
   "metadata": {},
   "outputs": [],
   "source": [
    "# Student #3\n",
    "me = TheirClass(\"Magnus\")\n",
    "print('Your name: ', me.name)\n",
    "print('Your call: ', me.method())"
   ]
  },
  {
   "cell_type": "code",
   "execution_count": null,
   "metadata": {},
   "outputs": [],
   "source": [
    "# Student #4\n",
    "it = TheirClass(\"R2D2\")\n",
    "print('Your name: ', it.name)\n",
    "print('Your call: ', it.method())"
   ]
  },
  {
   "cell_type": "markdown",
   "metadata": {},
   "source": [
    "## Class and Instance Variables Initialisation"
   ]
  },
  {
   "cell_type": "code",
   "execution_count": null,
   "metadata": {},
   "outputs": [],
   "source": [
    "# A class with variables\n",
    "class Teacher:\n",
    "    address = \"Lyngby\"\n",
    "    def __init__ (self):\n",
    "        self.address = \"Copenhagen\""
   ]
  },
  {
   "cell_type": "code",
   "execution_count": null,
   "metadata": {},
   "outputs": [],
   "source": [
    "me = Teacher()\n",
    "print('My address:', me.address)\n",
    "print('My school\\'s address:',Teacher.address)"
   ]
  },
  {
   "cell_type": "code",
   "execution_count": null,
   "metadata": {},
   "outputs": [],
   "source": []
  }
 ],
 "metadata": {
  "kernelspec": {
   "display_name": "Python 3",
   "language": "python",
   "name": "python3"
  },
  "language_info": {
   "codemirror_mode": {
    "name": "ipython",
    "version": 3
   },
   "file_extension": ".py",
   "mimetype": "text/x-python",
   "name": "python",
   "nbconvert_exporter": "python",
   "pygments_lexer": "ipython3",
   "version": "3.7.6"
  }
 },
 "nbformat": 4,
 "nbformat_minor": 4
}
