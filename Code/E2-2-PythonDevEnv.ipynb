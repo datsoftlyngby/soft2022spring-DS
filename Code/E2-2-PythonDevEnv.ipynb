{
 "cells": [
  {
   "cell_type": "markdown",
   "metadata": {},
   "source": [
    "# Which Development Environment?"
   ]
  },
  {
   "cell_type": "markdown",
   "metadata": {},
   "source": [
    "by Dora Dimitrova @Cphbusness\n",
    "_______________________________________________________________________________________________________________"
   ]
  },
  {
   "cell_type": "markdown",
   "metadata": {},
   "source": [
    "If you don't like Jupyter as Python application development tool, you are not the alone. Many other developers don't like it either, but many educators do.<br>\n",
    "\n",
    "As an instructor, I like it, as it lets me \n",
    "- structure the code I want to demonstrate to you according methodological criteria,\n",
    "- document it by use of as many comments and images, as needed\n",
    "- repeat and reuse single units of code for experimenting and exercising\n",
    "- keep intermediate results in the memory\n",
    "- run Python shell commands from inside the code\n",
    "- run it in any browser\n",
    "- and other small joys.\n",
    "<br>\n",
    "\n",
    "As a developer, I wouldn't choose it as my IDE, for some other obvious reasons:\n",
    "- hard to keep version control\n",
    "- no testing facilities\n",
    "- no good syntax support\n",
    "- no friendly error messages\n",
    "- and other anoying small misses.\n",
    "\n",
    "How can I integrate my favourite editors and experience double benefits?\n",
    "<br>\n",
    "Isn't it possible to keep programming in VS Code or any other professional IDE and documenting it in Jupyter?\n",
    "<br>\n",
    "Let's try!"
   ]
  },
  {
   "cell_type": "markdown",
   "metadata": {},
   "source": [
    "1. Create a root directory for your projects and move into it.\n",
    "\n",
    "2. Inside the root directory create two objects:\n",
    "    \n",
    "    a) a sub-directory _'yourapp'_ for your new application <br>\n",
    "    b) a __setup.py__ file with the following content:\n",
    "    \n",
    "```\n",
    "from setuptools import setup\n",
    "setup(\n",
    "    name='yourapp',\n",
    "    author='you',\n",
    "    version='0.1.0',\n",
    "    description='about your app',\n",
    "    packages=['yourapp']\n",
    ")\n",
    "```"
   ]
  },
  {
   "cell_type": "markdown",
   "metadata": {},
   "source": [
    "3. The setup data is used  for installing your application as a package (kind of, via symlink). Inside the root directory, run <br>\n",
    " \n",
    "```\n",
    "pip install --editable .\n",
    "```\n",
    "\n",
    "Note the dot! It points to the current directory, where the __setup.py__ is.\n"
   ]
  },
  {
   "cell_type": "code",
   "execution_count": null,
   "metadata": {},
   "outputs": [],
   "source": [
    "!pip install -e ."
   ]
  },
  {
   "cell_type": "markdown",
   "metadata": {},
   "source": [
    "4. The directory of the application needs to have a package structure, therefore it needs also an empty __\\_\\_init\\_\\_.py__ file in each sub-directory <br>\n",
    "\n",
    "Create an empty __\\_\\_init\\_\\_.py__ file in yourapp dir and any sub-directories of it.\n",
    "The whole structure should look like this\n",
    "```\n",
    "|-- setup.py\n",
    "|-- yourapp\n",
    "|   |-- __init__.py\n",
    "|   |-- code\n",
    "|       |-- __init__.py\n",
    "|       |-- test.py\n",
    "```"
   ]
  },
  {
   "cell_type": "markdown",
   "metadata": {},
   "source": [
    "5. In your __favourite environment__ create and save our code in __test.py__.\n",
    "Here is a demo code example:"
   ]
  },
  {
   "cell_type": "code",
   "execution_count": null,
   "metadata": {},
   "outputs": [],
   "source": [
    "# In test.py\n",
    "def hi():\n",
    "    print(\"Hello, Mars\")"
   ]
  },
  {
   "cell_type": "markdown",
   "metadata": {},
   "source": [
    "6. Now you can switch to __Jupyter__ for working on applications, which use the code from the yourapp package.\n",
    "For example, in a Jupyter notebook write:"
   ]
  },
  {
   "cell_type": "code",
   "execution_count": null,
   "metadata": {},
   "outputs": [],
   "source": [
    "# In test.ipynb\n",
    "from myhi.code.test import hi"
   ]
  },
  {
   "cell_type": "code",
   "execution_count": null,
   "metadata": {},
   "outputs": [],
   "source": [
    "# In test.ipynb\n",
    "hi()"
   ]
  },
  {
   "cell_type": "markdown",
   "metadata": {},
   "source": [
    "7. You can continue working on the next versions of your application in your favourite editor. For example, change the greeting from the test file to:"
   ]
  },
  {
   "cell_type": "code",
   "execution_count": null,
   "metadata": {},
   "outputs": [],
   "source": [
    "# In test.py\n",
    "def hi():\n",
    "    print(\"Hey, Jupyter\")"
   ]
  },
  {
   "cell_type": "markdown",
   "metadata": {},
   "source": [
    "To set Jupyter for automatic reload of a new version of your software, run once:"
   ]
  },
  {
   "cell_type": "code",
   "execution_count": 1,
   "metadata": {},
   "outputs": [],
   "source": [
    "# In test.ipynb load and run IPython extension, which automatically reloads modules; 2 is a mode, before executing the code\n",
    "%load_ext autoreload\n",
    "%autoreload 2"
   ]
  },
  {
   "cell_type": "markdown",
   "metadata": {},
   "source": [
    "From now on the changes in the code are automatically propagated to Jupyter. Try hi() again to validate the effect and enjoy!"
   ]
  },
  {
   "cell_type": "code",
   "execution_count": null,
   "metadata": {},
   "outputs": [],
   "source": [
    "# In test.ipynb\n",
    "hi()"
   ]
  },
  {
   "cell_type": "markdown",
   "metadata": {},
   "source": [
    "### Reference:\n",
    "https://www.youtube.com/watch?v=7jiPeIFXb6U <br>\n",
    "https://www.youtube.com/watch?v=9Q6sLbz37gk<br>\n",
    "http://codumentary.blogspot.com/2014/11/python-tip-of-year-pip-install-editable.html<br>\n",
    "https://towardsdatascience.com/jupyter-ide-how-to-make-it-work-6253f78eec67<br>\n",
    "https://github.com/fastai/nbdev<br>\n",
    "https://ipython.org/ipython-doc/3/config/extensions/autoreload.html"
   ]
  },
  {
   "cell_type": "code",
   "execution_count": null,
   "metadata": {},
   "outputs": [],
   "source": []
  }
 ],
 "metadata": {
  "kernelspec": {
   "display_name": "Python 3",
   "language": "python",
   "name": "python3"
  },
  "language_info": {
   "codemirror_mode": {
    "name": "ipython",
    "version": 3
   },
   "file_extension": ".py",
   "mimetype": "text/x-python",
   "name": "python",
   "nbconvert_exporter": "python",
   "pygments_lexer": "ipython3",
   "version": "3.7.6"
  }
 },
 "nbformat": 4,
 "nbformat_minor": 5
}
